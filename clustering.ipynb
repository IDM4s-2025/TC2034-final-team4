{
 "cells": [
  {
   "cell_type": "markdown",
   "id": "37669dd4",
   "metadata": {},
   "source": [
    "# Unsupervised Learning - K-means Clustering on Bank Marketing Dataset \n",
    "\n",
    "\n",
    "Team members:\n",
    "- Sophia Gabriela Martinez Albarran A01424430\n",
    "- Eduardo Botello Casey A01659281\n",
    "- Marcos Saade Romano A01784220"
   ]
  },
  {
   "cell_type": "markdown",
   "id": "9b6b731e",
   "metadata": {},
   "source": [
    "## Introduction \n",
    "\n",
    "This project applies unsupervised learning techniques to the Bank Marketing dataset obtained from the UCI Machine Learning Repository. The primary objective is to group customers into distinct segments using K-Means clustering, interpret the resulting groups, and evaluate the model using decision trees."
   ]
  },
  {
   "cell_type": "markdown",
   "id": "21663611",
   "metadata": {},
   "source": [
    "## Dataset description\n",
    "\n",
    "The data is related with direct marketing campaigns (phone calls) of a Portuguese banking institution. The classification goal is to predict if the client will subscribe a term deposit (variable y). It contains 6 integers variables and 11 categorical variables. It has 45211 instances of data, where we will be performing a cleaning and preprocessing before creating the models."
   ]
  },
  {
   "cell_type": "code",
   "execution_count": 1,
   "id": "b8f8eaf0",
   "metadata": {},
   "outputs": [],
   "source": [
    "import sklearn \n",
    "from ucimlrepo import fetch_ucirepo \n",
    "import matplotlib.pyplot as plt\n",
    "import pandas as pd\n",
    "import numpy as np\n",
    "  \n",
    "# https://archive.ics.uci.edu/dataset/222/bank+marketing  \n",
    "# fetch dataset \n",
    "bank_marketing = fetch_ucirepo(id=222) \n",
    "  \n",
    "# data (as pandas dataframes) \n",
    "X = bank_marketing.data.features \n",
    "y = bank_marketing.data.targets \n",
    "  \n",
    "# Drop the column duration because in the page it says it isn't necessary for a predictive model\n",
    "X = X.drop(columns=['duration'])"
   ]
  },
  {
   "cell_type": "code",
   "execution_count": 2,
   "id": "6df2c2dc",
   "metadata": {},
   "outputs": [
    {
     "name": "stdout",
     "output_type": "stream",
     "text": [
      "<class 'pandas.core.frame.DataFrame'>\n",
      "RangeIndex: 45211 entries, 0 to 45210\n",
      "Data columns (total 15 columns):\n",
      " #   Column       Non-Null Count  Dtype \n",
      "---  ------       --------------  ----- \n",
      " 0   age          45211 non-null  int64 \n",
      " 1   job          44923 non-null  object\n",
      " 2   marital      45211 non-null  object\n",
      " 3   education    43354 non-null  object\n",
      " 4   default      45211 non-null  object\n",
      " 5   balance      45211 non-null  int64 \n",
      " 6   housing      45211 non-null  object\n",
      " 7   loan         45211 non-null  object\n",
      " 8   contact      32191 non-null  object\n",
      " 9   day_of_week  45211 non-null  int64 \n",
      " 10  month        45211 non-null  object\n",
      " 11  campaign     45211 non-null  int64 \n",
      " 12  pdays        45211 non-null  int64 \n",
      " 13  previous     45211 non-null  int64 \n",
      " 14  poutcome     8252 non-null   object\n",
      "dtypes: int64(6), object(9)\n",
      "memory usage: 5.2+ MB\n"
     ]
    }
   ],
   "source": [
    "X.info()"
   ]
  },
  {
   "cell_type": "code",
   "execution_count": 3,
   "id": "50224caa",
   "metadata": {},
   "outputs": [
    {
     "data": {
      "text/html": [
       "<div>\n",
       "<style scoped>\n",
       "    .dataframe tbody tr th:only-of-type {\n",
       "        vertical-align: middle;\n",
       "    }\n",
       "\n",
       "    .dataframe tbody tr th {\n",
       "        vertical-align: top;\n",
       "    }\n",
       "\n",
       "    .dataframe thead th {\n",
       "        text-align: right;\n",
       "    }\n",
       "</style>\n",
       "<table border=\"1\" class=\"dataframe\">\n",
       "  <thead>\n",
       "    <tr style=\"text-align: right;\">\n",
       "      <th></th>\n",
       "      <th>age</th>\n",
       "      <th>balance</th>\n",
       "      <th>day_of_week</th>\n",
       "      <th>campaign</th>\n",
       "      <th>pdays</th>\n",
       "      <th>previous</th>\n",
       "    </tr>\n",
       "  </thead>\n",
       "  <tbody>\n",
       "    <tr>\n",
       "      <th>count</th>\n",
       "      <td>45211.000000</td>\n",
       "      <td>45211.000000</td>\n",
       "      <td>45211.000000</td>\n",
       "      <td>45211.000000</td>\n",
       "      <td>45211.000000</td>\n",
       "      <td>45211.000000</td>\n",
       "    </tr>\n",
       "    <tr>\n",
       "      <th>mean</th>\n",
       "      <td>40.936210</td>\n",
       "      <td>1362.272058</td>\n",
       "      <td>15.806419</td>\n",
       "      <td>2.763841</td>\n",
       "      <td>40.197828</td>\n",
       "      <td>0.580323</td>\n",
       "    </tr>\n",
       "    <tr>\n",
       "      <th>std</th>\n",
       "      <td>10.618762</td>\n",
       "      <td>3044.765829</td>\n",
       "      <td>8.322476</td>\n",
       "      <td>3.098021</td>\n",
       "      <td>100.128746</td>\n",
       "      <td>2.303441</td>\n",
       "    </tr>\n",
       "    <tr>\n",
       "      <th>min</th>\n",
       "      <td>18.000000</td>\n",
       "      <td>-8019.000000</td>\n",
       "      <td>1.000000</td>\n",
       "      <td>1.000000</td>\n",
       "      <td>-1.000000</td>\n",
       "      <td>0.000000</td>\n",
       "    </tr>\n",
       "    <tr>\n",
       "      <th>25%</th>\n",
       "      <td>33.000000</td>\n",
       "      <td>72.000000</td>\n",
       "      <td>8.000000</td>\n",
       "      <td>1.000000</td>\n",
       "      <td>-1.000000</td>\n",
       "      <td>0.000000</td>\n",
       "    </tr>\n",
       "    <tr>\n",
       "      <th>50%</th>\n",
       "      <td>39.000000</td>\n",
       "      <td>448.000000</td>\n",
       "      <td>16.000000</td>\n",
       "      <td>2.000000</td>\n",
       "      <td>-1.000000</td>\n",
       "      <td>0.000000</td>\n",
       "    </tr>\n",
       "    <tr>\n",
       "      <th>75%</th>\n",
       "      <td>48.000000</td>\n",
       "      <td>1428.000000</td>\n",
       "      <td>21.000000</td>\n",
       "      <td>3.000000</td>\n",
       "      <td>-1.000000</td>\n",
       "      <td>0.000000</td>\n",
       "    </tr>\n",
       "    <tr>\n",
       "      <th>max</th>\n",
       "      <td>95.000000</td>\n",
       "      <td>102127.000000</td>\n",
       "      <td>31.000000</td>\n",
       "      <td>63.000000</td>\n",
       "      <td>871.000000</td>\n",
       "      <td>275.000000</td>\n",
       "    </tr>\n",
       "  </tbody>\n",
       "</table>\n",
       "</div>"
      ],
      "text/plain": [
       "                age        balance   day_of_week      campaign         pdays  \\\n",
       "count  45211.000000   45211.000000  45211.000000  45211.000000  45211.000000   \n",
       "mean      40.936210    1362.272058     15.806419      2.763841     40.197828   \n",
       "std       10.618762    3044.765829      8.322476      3.098021    100.128746   \n",
       "min       18.000000   -8019.000000      1.000000      1.000000     -1.000000   \n",
       "25%       33.000000      72.000000      8.000000      1.000000     -1.000000   \n",
       "50%       39.000000     448.000000     16.000000      2.000000     -1.000000   \n",
       "75%       48.000000    1428.000000     21.000000      3.000000     -1.000000   \n",
       "max       95.000000  102127.000000     31.000000     63.000000    871.000000   \n",
       "\n",
       "           previous  \n",
       "count  45211.000000  \n",
       "mean       0.580323  \n",
       "std        2.303441  \n",
       "min        0.000000  \n",
       "25%        0.000000  \n",
       "50%        0.000000  \n",
       "75%        0.000000  \n",
       "max      275.000000  "
      ]
     },
     "execution_count": 3,
     "metadata": {},
     "output_type": "execute_result"
    }
   ],
   "source": [
    "X.describe()"
   ]
  },
  {
   "cell_type": "markdown",
   "id": "d22a30db",
   "metadata": {},
   "source": [
    "## Data preprocessing \n",
    "\n",
    "- **Dataset source**: [UCI Repository - Bank Marketing](https://archive.ics.uci.edu/dataset/222/bank+marketing)\n",
    "- **Dropped Column**: duration was removed, as specified in the dataset documentation, since it is not suitable for predictive modeling.\n",
    "- **Missing values**: \n",
    "    - job, education, and contact filled with 'unknown'.\n",
    "    - poutcome filled with 'nonexistent'.\n",
    "\n",
    "- **Encoding**:\n",
    "    - Categorical variables were encoded using OneHotEncoder.\n",
    "    - Numerical features were concatenated with encoded features to form the final input matrix X_final.\n"
   ]
  },
  {
   "cell_type": "code",
   "execution_count": 4,
   "id": "a851b7da",
   "metadata": {},
   "outputs": [],
   "source": [
    "X.job = X.job.fillna('unknown')\n",
    "X.education = X.education.fillna('unknown')\n",
    "X.poutcome = X.poutcome.fillna('nonexistent')\n",
    "X.contact = X.contact.fillna('unknown')"
   ]
  },
  {
   "cell_type": "code",
   "execution_count": 5,
   "id": "4d1f3873",
   "metadata": {},
   "outputs": [],
   "source": [
    "from sklearn.preprocessing import OneHotEncoder\n",
    "\n",
    "encoder = OneHotEncoder(handle_unknown='ignore')\n",
    "X_encoded = encoder.fit_transform(X.select_dtypes(include=['object']))\n",
    "X_encoded_df = pd.DataFrame(\n",
    "    X_encoded.toarray(), \n",
    "    columns=encoder.get_feature_names_out(X.select_dtypes(include=['object']).columns)\n",
    ")\n"
   ]
  },
  {
   "cell_type": "code",
   "execution_count": 6,
   "id": "542dc07e",
   "metadata": {},
   "outputs": [],
   "source": [
    "X_numerico = X.select_dtypes(exclude=['object'])\n",
    "X_final = pd.concat([X_numerico.reset_index(drop=True), X_encoded_df.reset_index(drop=True)], axis=1)"
   ]
  },
  {
   "cell_type": "markdown",
   "id": "124dd1a3",
   "metadata": {},
   "source": [
    "# Clustering Algorithm \n",
    "\n",
    "### Model Used \n",
    "\n",
    "- **Algorithm**: KMeans\n",
    "- **Range of K**: 2 to 9\n",
    "- **Initialization**: 10 (n_init=10)\n",
    "- **Random State**: 42 (for reproducibility)"
   ]
  },
  {
   "cell_type": "code",
   "execution_count": 7,
   "id": "3fccdcae",
   "metadata": {},
   "outputs": [],
   "source": [
    "from sklearn.cluster import KMeans\n",
    "kmeans_per_k = [KMeans(n_clusters=k, n_init=10, random_state=42).fit(X_final)\n",
    "                for k in range(2, 10)]"
   ]
  },
  {
   "cell_type": "markdown",
   "id": "50b87113",
   "metadata": {},
   "source": [
    "### Inertia Analysis \n",
    "\n",
    "Inertia measures the within cluster sum of squared distances in other words, how internally cohesive the clusters are. Lower inertia indicates that points are closer to their respective centroids, implying tighter clusters.\n",
    "\n",
    "Using the following code, inertia values were calculated for K ranging from 2 to 10:\n"
   ]
  },
  {
   "cell_type": "code",
   "execution_count": 8,
   "id": "eb08a250",
   "metadata": {},
   "outputs": [
    {
     "data": {
      "image/png": "[encoded data removed]",
      "text/plain": [
       "<Figure size 576x252 with 1 Axes>"
      ]
     },
     "metadata": {
      "needs_background": "light"
     },
     "output_type": "display_data"
    }
   ],
   "source": [
    "inertias = [model.inertia_ for model in kmeans_per_k]\n",
    "plt.figure(figsize=(8, 3.5))\n",
    "plt.plot(range(2, 10), inertias, \"bo-\")\n",
    "plt.xlabel(\"$k$\")\n",
    "plt.ylabel(\"Inertia\")\n",
    "plt.yscale('log')\n",
    "plt.grid()\n",
    "\n",
    "plt.show()"
   ]
  },
  {
   "cell_type": "markdown",
   "id": "45301317",
   "metadata": {},
   "source": [
    "The resulting plot shows a sharp drop in inertia between K=2 and K=3, followed by a smoother and more gradual decrease from K=3 onward.\n",
    "\n",
    "The “elbow” point where the rate of decrease in inertia slows significantly is observed at K=2. After K=2, the marginal gain in reducing inertia diminishes, suggesting that adding more clusters does not lead to proportionally tighter groups, also the use of a logarithmic scale highlights the relative reduction, and helps confirm that K=2 offers the best trade off between simplicity and cluster cohesion.\n",
    "\n",
    "From an inertia based perspective, K=2 is justified as the optimal number of clusters.\n"
   ]
  },
  {
   "cell_type": "markdown",
   "id": "4285c063",
   "metadata": {},
   "source": [
    "### Silhouette Analysis \n",
    "\n",
    "To evaluate the compactness and separation of the clusters, we used the Silhouette Coefficient, which ranges from -1 (poor clustering) to +1 (ideal clustering). The average silhouette score was computed for values of K ranging from 2 to 8 using the formula:"
   ]
  },
  {
   "cell_type": "code",
   "execution_count": 9,
   "id": "0827e3ff",
   "metadata": {},
   "outputs": [
    {
     "data": {
      "image/png": "[encoded data removed]",
      "text/plain": [
       "<Figure size 576x216 with 1 Axes>"
      ]
     },
     "metadata": {
      "needs_background": "light"
     },
     "output_type": "display_data"
    }
   ],
   "source": [
    "from sklearn.metrics import silhouette_score\n",
    "\n",
    "silhouette_scores = [silhouette_score(X_final, model.labels_)\n",
    "                     for model in kmeans_per_k[0:]]\n",
    "\n",
    "plt.figure(figsize=(8, 3))\n",
    "plt.plot(range(2, 10), silhouette_scores, \"bo-\")\n",
    "plt.xlabel(\"$k$\")\n",
    "plt.ylabel(\"Silhouette score\")\n",
    "plt.axis([1.8, 8.5, 0.5, 1])\n",
    "\n",
    "plt.grid()\n",
    "#save_fig(\"silhouette_score_vs_k_plot\")\n",
    "plt.show()"
   ]
  },
  {
   "cell_type": "markdown",
   "id": "b1caae14",
   "metadata": {},
   "source": [
    "The graph shows a monotonic decrease in silhouette score as K increases, indicating that adding more clusters reduces the average cohesion of points within clusters.\n",
    "\n",
    "K=2 results in the highest silhouette score (0.85), which strongly suggests that the data naturally forms two well separated groups.\n",
    "\n",
    "The decline in score after K=2 shows that additional clusters start to split well defined groups into smaller, less meaningful segments.\n",
    "\n",
    "For example, at K=3 or K=4, although the inertia continues to decrease, the silhouette score drops, meaning the quality of clustering deteriorates.\n",
    "\n",
    "Based on this analysis, we chose K=2 as the optimal number of clusters, prioritizing cluster quality over granularity.\n"
   ]
  },
  {
   "cell_type": "markdown",
   "id": "dd8088bf",
   "metadata": {},
   "source": [
    "### Silhouette (Per Cluster)\n",
    "\n",
    "In addition to computing the average silhouette scores, we generated individual silhouette coefficient plots for different values of k (2 to 5). These plots provide insight into:\n",
    "\n",
    "- The shape and size of each cluster.\n",
    "\n",
    "- How compact and well-separated each cluster is.\n",
    "\n",
    "Each horizontal bar in the plots represents an individual point, and its length corresponds to the silhouette coefficient. A longer bar implies a better fit within its assigned cluster.\n",
    "\n"
   ]
  },
  {
   "cell_type": "code",
   "execution_count": 10,
   "id": "e75fd0cb",
   "metadata": {},
   "outputs": [
    {
     "data": {
      "image/png": "[encoded data removed]",
      "text/plain": [
       "<Figure size 792x648 with 4 Axes>"
      ]
     },
     "metadata": {
      "needs_background": "light"
     },
     "output_type": "display_data"
    }
   ],
   "source": [
    "from sklearn.metrics import silhouette_samples\n",
    "from matplotlib.ticker import FixedLocator, FixedFormatter\n",
    "\n",
    "plt.figure(figsize=(11, 9))\n",
    "\n",
    "for k in (2, 3, 4, 5):\n",
    "    plt.subplot(2, 2, k - 1)\n",
    "    \n",
    "    y_pred = kmeans_per_k[k - 2].labels_\n",
    "    silhouette_coefficients = silhouette_samples(X_final, y_pred)\n",
    "\n",
    "    padding = len(X_final) // 30\n",
    "    pos = padding\n",
    "    ticks = []\n",
    "    for i in range(k):\n",
    "        coeffs = silhouette_coefficients[y_pred == i]\n",
    "        coeffs.sort()\n",
    "\n",
    "        color = plt.cm.Spectral(i / k)\n",
    "        plt.fill_betweenx(np.arange(pos, pos + len(coeffs)), 0, coeffs,\n",
    "                          facecolor=color, edgecolor=color, alpha=0.7)\n",
    "        ticks.append(pos + len(coeffs) // 2)\n",
    "        pos += len(coeffs) + padding\n",
    "\n",
    "    plt.gca().yaxis.set_major_locator(FixedLocator(ticks))\n",
    "    plt.gca().yaxis.set_major_formatter(FixedFormatter(range(k)))\n",
    "    if k in (3, 5):\n",
    "        plt.ylabel(\"Cluster\")\n",
    "    \n",
    "    if k in (5, 6):\n",
    "        plt.gca().set_xticks([-0.1, 0, 0.2, 0.4, 0.6, 0.8, 1])\n",
    "        plt.xlabel(\"Silhouette Coefficient\")\n",
    "    else:\n",
    "        plt.tick_params(labelbottom=False)\n",
    "\n",
    "    plt.axvline(x=silhouette_scores[k - 2], color=\"red\", linestyle=\"--\")\n",
    "    plt.title(f\"$k={k}$\")\n",
    "\n",
    "# save_fig(\"silhouette_analysis_plot\")\n",
    "plt.show()"
   ]
  },
  {
   "cell_type": "markdown",
   "id": "4bc58a02",
   "metadata": {},
   "source": [
    "**Observations**\n",
    "\n",
    "K = 2:\n",
    "\n",
    "The silhouette coefficients are relatively long and consistent across both clusters.\n",
    "\n",
    "Most values are above 0.6, with a clean right aligned shape.\n",
    "\n",
    "This indicates very strong intra-cluster cohesion and separation from the other group.\n",
    "\n",
    "K = 3 and K = 4:\n",
    "\n",
    "Some clusters begin to show flattened or uneven shapes, especially clusters with fewer members.\n",
    "\n",
    "The average silhouette score decreases slightly.\n",
    "\n",
    "It suggests that some points are starting to fall closer to decision boundaries.\n",
    "\n",
    "K = 5:\n",
    "\n",
    "The silhouette widths are shorter and more dispersed across clusters.\n",
    "\n",
    "One or two clusters have many low or borderline coefficients, which may indicate that these points are poorly clustered or ambiguous.\n",
    "\n",
    "\n",
    "From this visual analysis, K = 2 again stands out as the configuration with the cleanest and most balanced cluster shapes. The individual cluster structure is tight and distinguishable, confirming the result obtained through the average silhouette score.\n",
    "\n"
   ]
  },
  {
   "cell_type": "markdown",
   "id": "8cf27657",
   "metadata": {},
   "source": [
    "### Justification for K\n",
    "\n",
    "Based on both the inertia and silhouette analyses, we selected **K=2** as the optimal number of clusters. While higher values of K slightly reduce inertia, the silhouette score decreases consistently as K increases. With K=2, the silhouette score is the highest (around 0.85), indicating well-defined and separated clusters. Additionally, the silhouette plot for K=2 shows clean and consistent shapes for both groups, supporting a good clustering structure."
   ]
  },
  {
   "cell_type": "markdown",
   "id": "848a9bcd",
   "metadata": {},
   "source": [
    "# Decision Tree Classifier Evaluation \n",
    "\n",
    "To evaluate how well the KMeans generated clusters are distinguishable in feature space, we trained a Decision Tree Classifier using the cluster labels as targets.\n",
    "\n",
    "- Train/Test Split: 80% training, 20% testing\n",
    "\n",
    "- Target: Cluster labels from KMeans (K=2)\n",
    "\n"
   ]
  },
  {
   "cell_type": "code",
   "execution_count": 11,
   "id": "ec7bf1ca",
   "metadata": {},
   "outputs": [
    {
     "name": "stdout",
     "output_type": "stream",
     "text": [
      "Decision Tree Accuracy: 1.0000\n",
      "\n",
      "Classification Report:\n",
      "              precision    recall  f1-score   support\n",
      "\n",
      "           0       1.00      1.00      1.00      8668\n",
      "           1       1.00      1.00      1.00       375\n",
      "\n",
      "    accuracy                           1.00      9043\n",
      "   macro avg       1.00      1.00      1.00      9043\n",
      "weighted avg       1.00      1.00      1.00      9043\n",
      "\n",
      "Confusion Matrix:\n",
      "[[8668    0]\n",
      " [   0  375]]\n"
     ]
    }
   ],
   "source": [
    "from sklearn.tree import DecisionTreeClassifier\n",
    "from sklearn.model_selection import train_test_split\n",
    "from sklearn.metrics import accuracy_score, classification_report, confusion_matrix\n",
    "\n",
    "\n",
    "y = kmeans_per_k[0].labels_\n",
    "\n",
    "X_train, X_test, y_train, y_test = train_test_split(X_final, y, test_size=0.2, random_state=42)\n",
    "\n",
    "\n",
    "dt_classifier = DecisionTreeClassifier(random_state=42)\n",
    "dt_classifier.fit(X_train, y_train)\n",
    "\n",
    "\n",
    "y_pred = dt_classifier.predict(X_test)\n",
    "\n",
    "\n",
    "accuracy = accuracy_score(y_test, y_pred)\n",
    "print(f\"Decision Tree Accuracy: {accuracy:.4f}\")\n",
    "print(\"\\nClassification Report:\")\n",
    "print(classification_report(y_test, y_pred))\n",
    "\n",
    "\n",
    "cm = confusion_matrix(y_test, y_pred)\n",
    "\n",
    "print(\"Confusion Matrix:\")\n",
    "print(cm)"
   ]
  },
  {
   "cell_type": "markdown",
   "id": "b7dd0067",
   "metadata": {},
   "source": [
    "The decision tree classifier was able to perfectly separate the two clusters generated by KMeans, achieving:\n",
    "\n",
    "- 100% accuracy\n",
    "\n",
    "- No false positives or false negatives\n",
    "\n",
    "- Identical precision, recall, and F1-score across both classes\n",
    "\n",
    "This result confirms that the clusters found are very well-defined and linearly separable, which reinforces the validity of choosing K=2. Additionally, the decision tree provides interpretability into which features contribute most to this separation a useful aspect in real world marketing applications."
   ]
  },
  {
   "cell_type": "markdown",
   "id": "894e2900",
   "metadata": {},
   "source": [
    "# Decision tree Structure\n",
    "\n",
    "To interpret the logic behind the decision tree classifier used to separate the clusters, the model was exported and visualized using graphviz. The tree structure helps reveal the most influential features for determining cluster membership.\n",
    "\n"
   ]
  },
  {
   "cell_type": "code",
   "execution_count": 12,
   "id": "b5babe9a",
   "metadata": {},
   "outputs": [],
   "source": [
    "from pathlib import Path\n",
    "\n",
    "IMAGES_PATH = Path() / \"images\" / \"decision_trees\"\n",
    "IMAGES_PATH.mkdir(parents=True, exist_ok=True)\n",
    "\n",
    "def save_fig(fig_id, tight_layout=True, fig_extension=\"png\", resolution=300):\n",
    "    path = IMAGES_PATH / f\"{fig_id}.{fig_extension}\"\n",
    "    if tight_layout:\n",
    "        plt.tight_layout()\n",
    "    plt.savefig(path, format=fig_extension, dpi=resolution)"
   ]
  },
  {
   "cell_type": "code",
   "execution_count": 13,
   "id": "0beb88d7",
   "metadata": {},
   "outputs": [],
   "source": [
    "\n",
    "from sklearn.tree import export_graphviz\n",
    "\n",
    "export_graphviz(\n",
    "        dt_classifier,\n",
    "        out_file=str(IMAGES_PATH / \"cluster_tree.dot\"),  # path differs in the book\n",
    "        feature_names=X_final.columns.tolist(),\n",
    "        class_names=[str(cls) for cls in dt_classifier.classes_],\n",
    "        rounded=True,\n",
    "        filled=True\n",
    ")"
   ]
  },
  {
   "cell_type": "code",
   "execution_count": 14,
   "id": "9d6805e3",
   "metadata": {},
   "outputs": [
    {
     "data": {
      "image/svg+xml": [
       "<?xml version=\"1.0\" encoding=\"UTF-8\" standalone=\"no\"?>\n",
       "<!DOCTYPE svg PUBLIC \"-//W3C//DTD SVG 1.1//EN\"\n",
       " \"http://www.w3.org/Graphics/SVG/1.1/DTD/svg11.dtd\">\n",
       "<!-- Generated by graphviz version 12.2.1 (20241206.2353)\n",
       " -->\n",
       "<!-- Title: Tree Pages: 1 -->\n",
       "<svg width=\"266pt\" height=\"202pt\"\n",
       " viewBox=\"0.00 0.00 266.25 201.75\" xmlns=\"http://www.w3.org/2000/svg\" xmlns:xlink=\"http://www.w3.org/1999/xlink\">\n",
       "<g id=\"graph0\" class=\"graph\" transform=\"scale(1 1) rotate(0) translate(4 197.75)\">\n",
       "<title>Tree</title>\n",
       "<polygon fill=\"white\" stroke=\"none\" points=\"-4,4 -4,-197.75 262.25,-197.75 262.25,4 -4,4\"/>\n",
       "<!-- 0 -->\n",
       "<g id=\"node1\" class=\"node\">\n",
       "<title>0</title>\n",
       "<path fill=\"#e68742\" stroke=\"black\" d=\"M192.25,-193.75C192.25,-193.75 69.75,-193.75 69.75,-193.75 63.75,-193.75 57.75,-187.75 57.75,-181.75 57.75,-181.75 57.75,-119 57.75,-119 57.75,-113 63.75,-107 69.75,-107 69.75,-107 192.25,-107 192.25,-107 198.25,-107 204.25,-113 204.25,-119 204.25,-119 204.25,-181.75 204.25,-181.75 204.25,-187.75 198.25,-193.75 192.25,-193.75\"/>\n",
       "<text text-anchor=\"middle\" x=\"131\" y=\"-176.45\" font-family=\"Helvetica,sans-Serif\" font-size=\"14.00\">balance &lt;= 6375.0</text>\n",
       "<text text-anchor=\"middle\" x=\"131\" y=\"-160.7\" font-family=\"Helvetica,sans-Serif\" font-size=\"14.00\">gini = 0.082</text>\n",
       "<text text-anchor=\"middle\" x=\"131\" y=\"-144.95\" font-family=\"Helvetica,sans-Serif\" font-size=\"14.00\">samples = 36168</text>\n",
       "<text text-anchor=\"middle\" x=\"131\" y=\"-129.2\" font-family=\"Helvetica,sans-Serif\" font-size=\"14.00\">value = [34622, 1546]</text>\n",
       "<text text-anchor=\"middle\" x=\"131\" y=\"-113.45\" font-family=\"Helvetica,sans-Serif\" font-size=\"14.00\">class = 0</text>\n",
       "</g>\n",
       "<!-- 1 -->\n",
       "<g id=\"node2\" class=\"node\">\n",
       "<title>1</title>\n",
       "<path fill=\"#e58139\" stroke=\"black\" d=\"M112,-71C112,-71 12,-71 12,-71 6,-71 0,-65 0,-59 0,-59 0,-12 0,-12 0,-6 6,0 12,0 12,0 112,0 112,0 118,0 124,-6 124,-12 124,-12 124,-59 124,-59 124,-65 118,-71 112,-71\"/>\n",
       "<text text-anchor=\"middle\" x=\"62\" y=\"-53.7\" font-family=\"Helvetica,sans-Serif\" font-size=\"14.00\">gini = 0.0</text>\n",
       "<text text-anchor=\"middle\" x=\"62\" y=\"-37.95\" font-family=\"Helvetica,sans-Serif\" font-size=\"14.00\">samples = 34622</text>\n",
       "<text text-anchor=\"middle\" x=\"62\" y=\"-22.2\" font-family=\"Helvetica,sans-Serif\" font-size=\"14.00\">value = [34622, 0]</text>\n",
       "<text text-anchor=\"middle\" x=\"62\" y=\"-6.45\" font-family=\"Helvetica,sans-Serif\" font-size=\"14.00\">class = 0</text>\n",
       "</g>\n",
       "<!-- 0&#45;&gt;1 -->\n",
       "<g id=\"edge1\" class=\"edge\">\n",
       "<title>0&#45;&gt;1</title>\n",
       "<path fill=\"none\" stroke=\"black\" d=\"M104.91,-106.7C99.76,-98.27 94.33,-89.39 89.14,-80.9\"/>\n",
       "<polygon fill=\"black\" stroke=\"black\" points=\"92.18,-79.16 83.98,-72.45 86.2,-82.81 92.18,-79.16\"/>\n",
       "<text text-anchor=\"middle\" x=\"77.32\" y=\"-90.04\" font-family=\"Helvetica,sans-Serif\" font-size=\"14.00\">True</text>\n",
       "</g>\n",
       "<!-- 2 -->\n",
       "<g id=\"node3\" class=\"node\">\n",
       "<title>2</title>\n",
       "<path fill=\"#399de5\" stroke=\"black\" d=\"M246.25,-71C246.25,-71 153.75,-71 153.75,-71 147.75,-71 141.75,-65 141.75,-59 141.75,-59 141.75,-12 141.75,-12 141.75,-6 147.75,0 153.75,0 153.75,0 246.25,0 246.25,0 252.25,0 258.25,-6 258.25,-12 258.25,-12 258.25,-59 258.25,-59 258.25,-65 252.25,-71 246.25,-71\"/>\n",
       "<text text-anchor=\"middle\" x=\"200\" y=\"-53.7\" font-family=\"Helvetica,sans-Serif\" font-size=\"14.00\">gini = 0.0</text>\n",
       "<text text-anchor=\"middle\" x=\"200\" y=\"-37.95\" font-family=\"Helvetica,sans-Serif\" font-size=\"14.00\">samples = 1546</text>\n",
       "<text text-anchor=\"middle\" x=\"200\" y=\"-22.2\" font-family=\"Helvetica,sans-Serif\" font-size=\"14.00\">value = [0, 1546]</text>\n",
       "<text text-anchor=\"middle\" x=\"200\" y=\"-6.45\" font-family=\"Helvetica,sans-Serif\" font-size=\"14.00\">class = 1</text>\n",
       "</g>\n",
       "<!-- 0&#45;&gt;2 -->\n",
       "<g id=\"edge2\" class=\"edge\">\n",
       "<title>0&#45;&gt;2</title>\n",
       "<path fill=\"none\" stroke=\"black\" d=\"M157.09,-106.7C162.24,-98.27 167.67,-89.39 172.86,-80.9\"/>\n",
       "<polygon fill=\"black\" stroke=\"black\" points=\"175.8,-82.81 178.02,-72.45 169.82,-79.16 175.8,-82.81\"/>\n",
       "<text text-anchor=\"middle\" x=\"184.68\" y=\"-90.04\" font-family=\"Helvetica,sans-Serif\" font-size=\"14.00\">False</text>\n",
       "</g>\n",
       "</g>\n",
       "</svg>\n"
      ],
      "text/plain": [
       "<graphviz.sources.Source at 0x1ca2fb540a0>"
      ]
     },
     "execution_count": 14,
     "metadata": {},
     "output_type": "execute_result"
    }
   ],
   "source": [
    "\n",
    "from graphviz import Source\n",
    "\n",
    "Source.from_file(IMAGES_PATH / \"cluster_tree.dot\")  # path differs in the book"
   ]
  },
  {
   "cell_type": "markdown",
   "id": "69e596da",
   "metadata": {},
   "source": [
    "The root node splits on the feature:\n",
    "\n",
    "balance <= 6375.0\n",
    "\n",
    "This single feature alone perfectly separates the dataset into the two clusters:\n",
    "\n",
    "- If a customer’s balance is less than or equal to €6375, they belong to Cluster 0.\n",
    "\n",
    "- Otherwise, they are placed in Cluster 1.\n",
    "\n",
    "The Gini impurity at the root node is very low (0.082), indicating a strong purity in the split.\n",
    "\n",
    "The resulting leaves have Gini = 0.0, meaning they are perfectly homogeneous:\n",
    "\n",
    "- One leaf contains 34,622 customers (class 0).\n",
    "\n",
    "- The other contains 1,546 customers (class 1).\n",
    "\n",
    "This confirms that balance is the most decisive feature in distinguishing the two clusters."
   ]
  },
  {
   "cell_type": "markdown",
   "id": "07e4f486",
   "metadata": {},
   "source": [
    "# Descriptive Stadistics \n",
    "\n",
    "After assigning each customer to a cluster, we explored the statistical properties of each group by examining key features such as age, balance, campaign contacts, and previous campaign outcomes."
   ]
  },
  {
   "cell_type": "code",
   "execution_count": 15,
   "id": "99b34073",
   "metadata": {},
   "outputs": [],
   "source": [
    "\n",
    "full_df = pd.concat([X, pd.Series(y, name='cluster')], axis=1)\n",
    "df_cluster_0 = full_df[full_df['cluster'] == 0]\n",
    "df_cluster_1 = full_df[full_df['cluster'] == 1]"
   ]
  },
  {
   "cell_type": "markdown",
   "id": "b905efbb",
   "metadata": {},
   "source": [
    "##### Cluster 0 (mayority group)"
   ]
  },
  {
   "cell_type": "code",
   "execution_count": 16,
   "id": "2ba458b4",
   "metadata": {},
   "outputs": [
    {
     "data": {
      "text/html": [
       "<div>\n",
       "<style scoped>\n",
       "    .dataframe tbody tr th:only-of-type {\n",
       "        vertical-align: middle;\n",
       "    }\n",
       "\n",
       "    .dataframe tbody tr th {\n",
       "        vertical-align: top;\n",
       "    }\n",
       "\n",
       "    .dataframe thead th {\n",
       "        text-align: right;\n",
       "    }\n",
       "</style>\n",
       "<table border=\"1\" class=\"dataframe\">\n",
       "  <thead>\n",
       "    <tr style=\"text-align: right;\">\n",
       "      <th></th>\n",
       "      <th>age</th>\n",
       "      <th>balance</th>\n",
       "      <th>day_of_week</th>\n",
       "      <th>campaign</th>\n",
       "      <th>pdays</th>\n",
       "      <th>previous</th>\n",
       "      <th>cluster</th>\n",
       "    </tr>\n",
       "  </thead>\n",
       "  <tbody>\n",
       "    <tr>\n",
       "      <th>count</th>\n",
       "      <td>43290.000000</td>\n",
       "      <td>43290.000000</td>\n",
       "      <td>43290.000000</td>\n",
       "      <td>43290.000000</td>\n",
       "      <td>43290.00000</td>\n",
       "      <td>43290.000000</td>\n",
       "      <td>43290.0</td>\n",
       "    </tr>\n",
       "    <tr>\n",
       "      <th>mean</th>\n",
       "      <td>40.813929</td>\n",
       "      <td>896.677108</td>\n",
       "      <td>15.793809</td>\n",
       "      <td>2.767822</td>\n",
       "      <td>40.23167</td>\n",
       "      <td>0.576253</td>\n",
       "      <td>0.0</td>\n",
       "    </tr>\n",
       "    <tr>\n",
       "      <th>std</th>\n",
       "      <td>10.561367</td>\n",
       "      <td>1295.762132</td>\n",
       "      <td>8.342228</td>\n",
       "      <td>3.093884</td>\n",
       "      <td>100.45451</td>\n",
       "      <td>2.305106</td>\n",
       "      <td>0.0</td>\n",
       "    </tr>\n",
       "    <tr>\n",
       "      <th>min</th>\n",
       "      <td>18.000000</td>\n",
       "      <td>-8019.000000</td>\n",
       "      <td>1.000000</td>\n",
       "      <td>1.000000</td>\n",
       "      <td>-1.00000</td>\n",
       "      <td>0.000000</td>\n",
       "      <td>0.0</td>\n",
       "    </tr>\n",
       "    <tr>\n",
       "      <th>25%</th>\n",
       "      <td>33.000000</td>\n",
       "      <td>61.000000</td>\n",
       "      <td>8.000000</td>\n",
       "      <td>1.000000</td>\n",
       "      <td>-1.00000</td>\n",
       "      <td>0.000000</td>\n",
       "      <td>0.0</td>\n",
       "    </tr>\n",
       "    <tr>\n",
       "      <th>50%</th>\n",
       "      <td>39.000000</td>\n",
       "      <td>404.500000</td>\n",
       "      <td>16.000000</td>\n",
       "      <td>2.000000</td>\n",
       "      <td>-1.00000</td>\n",
       "      <td>0.000000</td>\n",
       "      <td>0.0</td>\n",
       "    </tr>\n",
       "    <tr>\n",
       "      <th>75%</th>\n",
       "      <td>48.000000</td>\n",
       "      <td>1230.000000</td>\n",
       "      <td>21.000000</td>\n",
       "      <td>3.000000</td>\n",
       "      <td>-1.00000</td>\n",
       "      <td>0.000000</td>\n",
       "      <td>0.0</td>\n",
       "    </tr>\n",
       "    <tr>\n",
       "      <th>max</th>\n",
       "      <td>95.000000</td>\n",
       "      <td>6374.000000</td>\n",
       "      <td>31.000000</td>\n",
       "      <td>58.000000</td>\n",
       "      <td>871.00000</td>\n",
       "      <td>275.000000</td>\n",
       "      <td>0.0</td>\n",
       "    </tr>\n",
       "  </tbody>\n",
       "</table>\n",
       "</div>"
      ],
      "text/plain": [
       "                age       balance   day_of_week      campaign        pdays  \\\n",
       "count  43290.000000  43290.000000  43290.000000  43290.000000  43290.00000   \n",
       "mean      40.813929    896.677108     15.793809      2.767822     40.23167   \n",
       "std       10.561367   1295.762132      8.342228      3.093884    100.45451   \n",
       "min       18.000000  -8019.000000      1.000000      1.000000     -1.00000   \n",
       "25%       33.000000     61.000000      8.000000      1.000000     -1.00000   \n",
       "50%       39.000000    404.500000     16.000000      2.000000     -1.00000   \n",
       "75%       48.000000   1230.000000     21.000000      3.000000     -1.00000   \n",
       "max       95.000000   6374.000000     31.000000     58.000000    871.00000   \n",
       "\n",
       "           previous  cluster  \n",
       "count  43290.000000  43290.0  \n",
       "mean       0.576253      0.0  \n",
       "std        2.305106      0.0  \n",
       "min        0.000000      0.0  \n",
       "25%        0.000000      0.0  \n",
       "50%        0.000000      0.0  \n",
       "75%        0.000000      0.0  \n",
       "max      275.000000      0.0  "
      ]
     },
     "execution_count": 16,
     "metadata": {},
     "output_type": "execute_result"
    }
   ],
   "source": [
    "\n",
    "df_cluster_0.describe()"
   ]
  },
  {
   "cell_type": "markdown",
   "id": "9153089b",
   "metadata": {},
   "source": [
    "\n",
    "- Size: 43,290 customers\n",
    "\n",
    "- Average balance: €896\n",
    "\n",
    "- Average age: 40.8 years\n",
    "\n",
    "- Previous contacts: 0.57 (on average)\n",
    "\n",
    "- Balance range: From -8019 to €6374\n",
    "\n",
    "- Most values in pdays = -1, suggesting no recent contact in previous campaigns.\n",
    "\n",
    "This cluster contains customers with lower financial engagement, fewer prior contacts, and more modest account balances. The majority of the bank’s client base falls into this group."
   ]
  },
  {
   "cell_type": "markdown",
   "id": "376d3e58",
   "metadata": {},
   "source": [
    "##### Cluster 1 ( High-Value Segment)"
   ]
  },
  {
   "cell_type": "code",
   "execution_count": 17,
   "id": "bb25fb31",
   "metadata": {},
   "outputs": [
    {
     "data": {
      "text/html": [
       "<div>\n",
       "<style scoped>\n",
       "    .dataframe tbody tr th:only-of-type {\n",
       "        vertical-align: middle;\n",
       "    }\n",
       "\n",
       "    .dataframe tbody tr th {\n",
       "        vertical-align: top;\n",
       "    }\n",
       "\n",
       "    .dataframe thead th {\n",
       "        text-align: right;\n",
       "    }\n",
       "</style>\n",
       "<table border=\"1\" class=\"dataframe\">\n",
       "  <thead>\n",
       "    <tr style=\"text-align: right;\">\n",
       "      <th></th>\n",
       "      <th>age</th>\n",
       "      <th>balance</th>\n",
       "      <th>day_of_week</th>\n",
       "      <th>campaign</th>\n",
       "      <th>pdays</th>\n",
       "      <th>previous</th>\n",
       "      <th>cluster</th>\n",
       "    </tr>\n",
       "  </thead>\n",
       "  <tbody>\n",
       "    <tr>\n",
       "      <th>count</th>\n",
       "      <td>1921.000000</td>\n",
       "      <td>1921.000000</td>\n",
       "      <td>1921.000000</td>\n",
       "      <td>1921.000000</td>\n",
       "      <td>1921.000000</td>\n",
       "      <td>1921.000000</td>\n",
       "      <td>1921.0</td>\n",
       "    </tr>\n",
       "    <tr>\n",
       "      <th>mean</th>\n",
       "      <td>43.691827</td>\n",
       "      <td>11854.518480</td>\n",
       "      <td>16.090578</td>\n",
       "      <td>2.674128</td>\n",
       "      <td>39.435190</td>\n",
       "      <td>0.672046</td>\n",
       "      <td>1.0</td>\n",
       "    </tr>\n",
       "    <tr>\n",
       "      <th>std</th>\n",
       "      <td>11.501756</td>\n",
       "      <td>8087.401557</td>\n",
       "      <td>7.860908</td>\n",
       "      <td>3.189338</td>\n",
       "      <td>92.504809</td>\n",
       "      <td>2.264236</td>\n",
       "      <td>0.0</td>\n",
       "    </tr>\n",
       "    <tr>\n",
       "      <th>min</th>\n",
       "      <td>20.000000</td>\n",
       "      <td>6376.000000</td>\n",
       "      <td>1.000000</td>\n",
       "      <td>1.000000</td>\n",
       "      <td>-1.000000</td>\n",
       "      <td>0.000000</td>\n",
       "      <td>1.0</td>\n",
       "    </tr>\n",
       "    <tr>\n",
       "      <th>25%</th>\n",
       "      <td>34.000000</td>\n",
       "      <td>7529.000000</td>\n",
       "      <td>9.000000</td>\n",
       "      <td>1.000000</td>\n",
       "      <td>-1.000000</td>\n",
       "      <td>0.000000</td>\n",
       "      <td>1.0</td>\n",
       "    </tr>\n",
       "    <tr>\n",
       "      <th>50%</th>\n",
       "      <td>42.000000</td>\n",
       "      <td>9173.000000</td>\n",
       "      <td>18.000000</td>\n",
       "      <td>2.000000</td>\n",
       "      <td>-1.000000</td>\n",
       "      <td>0.000000</td>\n",
       "      <td>1.0</td>\n",
       "    </tr>\n",
       "    <tr>\n",
       "      <th>75%</th>\n",
       "      <td>53.000000</td>\n",
       "      <td>12939.000000</td>\n",
       "      <td>21.000000</td>\n",
       "      <td>3.000000</td>\n",
       "      <td>-1.000000</td>\n",
       "      <td>0.000000</td>\n",
       "      <td>1.0</td>\n",
       "    </tr>\n",
       "    <tr>\n",
       "      <th>max</th>\n",
       "      <td>87.000000</td>\n",
       "      <td>102127.000000</td>\n",
       "      <td>31.000000</td>\n",
       "      <td>63.000000</td>\n",
       "      <td>779.000000</td>\n",
       "      <td>35.000000</td>\n",
       "      <td>1.0</td>\n",
       "    </tr>\n",
       "  </tbody>\n",
       "</table>\n",
       "</div>"
      ],
      "text/plain": [
       "               age        balance  day_of_week     campaign        pdays  \\\n",
       "count  1921.000000    1921.000000  1921.000000  1921.000000  1921.000000   \n",
       "mean     43.691827   11854.518480    16.090578     2.674128    39.435190   \n",
       "std      11.501756    8087.401557     7.860908     3.189338    92.504809   \n",
       "min      20.000000    6376.000000     1.000000     1.000000    -1.000000   \n",
       "25%      34.000000    7529.000000     9.000000     1.000000    -1.000000   \n",
       "50%      42.000000    9173.000000    18.000000     2.000000    -1.000000   \n",
       "75%      53.000000   12939.000000    21.000000     3.000000    -1.000000   \n",
       "max      87.000000  102127.000000    31.000000    63.000000   779.000000   \n",
       "\n",
       "          previous  cluster  \n",
       "count  1921.000000   1921.0  \n",
       "mean      0.672046      1.0  \n",
       "std       2.264236      0.0  \n",
       "min       0.000000      1.0  \n",
       "25%       0.000000      1.0  \n",
       "50%       0.000000      1.0  \n",
       "75%       0.000000      1.0  \n",
       "max      35.000000      1.0  "
      ]
     },
     "execution_count": 17,
     "metadata": {},
     "output_type": "execute_result"
    }
   ],
   "source": [
    "\n",
    "df_cluster_1.describe()"
   ]
  },
  {
   "cell_type": "markdown",
   "id": "0510eec0",
   "metadata": {},
   "source": [
    "- Size: 1,921 customers\n",
    "\n",
    "- Average balance: €11,854 (more than 13x higher than Cluster 0)\n",
    "\n",
    "- Average age: 43.7 years (slightly older)\n",
    "\n",
    "- Balance range: €6,376 to €102,127\n",
    "\n",
    "- Previous contacts: slightly higher (0.67), indicating better engagement history.\n",
    "\n",
    "This cluster clearly identifies premium clients: those with significantly higher savings, older average age, and possibly higher campaign responsiveness. These clients could be targeted for investment services or tailored offerings."
   ]
  },
  {
   "cell_type": "markdown",
   "id": "cff1e64a",
   "metadata": {},
   "source": [
    "The differences in balance and age between clusters are substantial. Cluster 1 is notably wealthier and slightly older. Combined with the earlier decision tree results (which split perfectly based on balance), this confirms a strong natural segmentation between general clients and high value clients.\n",
    "\n",
    "These insights are key for strategic marketing, allowing the bank to deliver more personalized communications or financial products to each segment."
   ]
  },
  {
   "cell_type": "code",
   "execution_count": 18,
   "id": "c0cc85ba",
   "metadata": {},
   "outputs": [
    {
     "data": {
      "image/png": "[encoded data removed]",
      "text/plain": [
       "<Figure size 720x432 with 1 Axes>"
      ]
     },
     "metadata": {
      "needs_background": "light"
     },
     "output_type": "display_data"
    },
    {
     "name": "stdout",
     "output_type": "stream",
     "text": [
      "Balance Statistics by Cluster:\n",
      "\n",
      "Cluster 0:\n",
      "Median: €404.50\n",
      "Q1: €61.00\n",
      "Q3: €1230.00\n",
      "\n",
      "Cluster 1:\n",
      "Median: €9173.00\n",
      "Q1: €7529.00\n",
      "Q3: €12939.00\n"
     ]
    }
   ],
   "source": [
    "plt.figure(figsize=(10, 6))\n",
    "plt.boxplot([df_cluster_0['balance'], df_cluster_1['balance']], \n",
    "            labels=['Cluster 0', 'Cluster 1'])\n",
    "plt.title('Balance Distribution Between Clusters')\n",
    "plt.ylabel('Balance (€)')\n",
    "plt.grid(True, alpha=0.3)\n",
    "plt.show()\n",
    "\n",
    "# Additional statistics\n",
    "print(\"Balance Statistics by Cluster:\")\n",
    "print(\"\\nCluster 0:\")\n",
    "print(f\"Median: €{df_cluster_0['balance'].median():.2f}\")\n",
    "print(f\"Q1: €{df_cluster_0['balance'].quantile(0.25):.2f}\")\n",
    "print(f\"Q3: €{df_cluster_0['balance'].quantile(0.75):.2f}\")\n",
    "\n",
    "print(\"\\nCluster 1:\")\n",
    "print(f\"Median: €{df_cluster_1['balance'].median():.2f}\")\n",
    "print(f\"Q1: €{df_cluster_1['balance'].quantile(0.25):.2f}\")\n",
    "print(f\"Q3: €{df_cluster_1['balance'].quantile(0.75):.2f}\")"
   ]
  },
  {
   "cell_type": "markdown",
   "id": "d9466ae3",
   "metadata": {},
   "source": [
    "# Conclusion \n",
    "\n",
    "The unsupervised analysis using K-Means clustering revealed two well-defined groups within the Bank Marketing dataset. These clusters showed clear differences in both financial and demographic variables.\n",
    "\n",
    "- **Cluster 0** represents the majority of the clients. It includes 43,290 individuals with a relatively low average balance (€896), a younger average age (40.8 years), and nearly no previous campaign contact history. Most clients in this group had limited financial engagement, and their pdays values indicate that they were not recently contacted.\n",
    "\n",
    "- **Cluster 1** is much smaller, with 1,921 individuals, but significantly different in profile. Customers in this group have a much higher average balance (€11,854), are slightly older ( 43.7 years), and display more financial activity. Their minimum balance starts where the previous cluster ends (€6,376), confirming the natural separation identified by the model.\n",
    "\n",
    "The silhouette analysis showed that **K=2 offered the best balance between compactness and separation**, while the silhouette coefficient plots confirmed a clean clustering structure, especially for Cluster 0.\n",
    "\n",
    "Finally, a decision tree classifier trained to predict the cluster labels achieved **perfect classification** (accuracy = 1.00), with balance being the single most informative variable for separating both groups.\n",
    "\n",
    "These results confirm that the dataset contains **naturally occurring, clearly separable groups**, and that financial behavior especially account balance is a central factor in differentiating them.\n",
    "\n"
   ]
  }
 ],
 "metadata": {
  "kernelspec": {
   "display_name": "Python 3",
   "language": "python",
   "name": "python3"
  },
  "language_info": {
   "codemirror_mode": {
    "name": "ipython",
    "version": 3
   },
   "file_extension": ".py",
   "mimetype": "text/x-python",
   "name": "python",
   "nbconvert_exporter": "python",
   "pygments_lexer": "ipython3",
   "version": "3.10.4"
  }
 },
 "nbformat": 4,
 "nbformat_minor": 5
}
